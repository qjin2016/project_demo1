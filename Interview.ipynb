{
 "cells": [
  {
   "cell_type": "code",
   "execution_count": 1,
   "metadata": {
    "collapsed": true
   },
   "outputs": [],
   "source": [
    "import pandas as pd\n",
    "import numpy as np\n",
    "import matplotlib.pyplot as plt\n",
    "%matplotlib inline\n",
    "\n",
    "from sklearn import metrics\n",
    "from sklearn.model_selection import train_test_split"
   ]
  },
  {
   "cell_type": "markdown",
   "metadata": {},
   "source": [
    "### Exercise 1\n",
    "\n",
    "In the \"IAValues\" dataset, there are a number of missing (null) values for the rootznaws column, which measures root zone available water storage.  The goal of this challenge is to create a simple model to predict those missing values.\n",
    "\n",
    "- Load the dataset and perform and appropriate inspection of the data to verify that it is suitable for building a model.\n",
    "\n",
    "- Build a model (please explain your choice of model and why you choose it over alternatives) to predict the value of rootznaws.\n",
    "\n",
    "- Use your model to predict the missing values of rootznaws.\n",
    "\n",
    "- Analyze/discuss the accuracy of your model and any potential improvements you'd make on it given more time."
   ]
  },
  {
   "cell_type": "code",
   "execution_count": 2,
   "metadata": {
    "collapsed": true
   },
   "outputs": [],
   "source": [
    "df1 = pd.read_csv('./data/IAValues_updated_v2.txt')"
   ]
  },
  {
   "cell_type": "code",
   "execution_count": 3,
   "metadata": {
    "collapsed": false
   },
   "outputs": [
    {
     "data": {
      "text/html": [
       "<div>\n",
       "<style>\n",
       "    .dataframe thead tr:only-child th {\n",
       "        text-align: right;\n",
       "    }\n",
       "\n",
       "    .dataframe thead th {\n",
       "        text-align: left;\n",
       "    }\n",
       "\n",
       "    .dataframe tbody tr th {\n",
       "        vertical-align: top;\n",
       "    }\n",
       "</style>\n",
       "<table border=\"1\" class=\"dataframe\">\n",
       "  <thead>\n",
       "    <tr style=\"text-align: right;\">\n",
       "      <th></th>\n",
       "      <th>Unnamed: 0</th>\n",
       "      <th>Unnamed: 0.1</th>\n",
       "      <th>mukey</th>\n",
       "      <th>OBJECTID_1</th>\n",
       "      <th>tk0_5a</th>\n",
       "      <th>tk5_20a</th>\n",
       "      <th>tk20_50a</th>\n",
       "      <th>tk50_100a</th>\n",
       "      <th>tk100_150a</th>\n",
       "      <th>tk150_999a</th>\n",
       "      <th>...</th>\n",
       "      <th>nccpi2cs</th>\n",
       "      <th>nccpi2sg</th>\n",
       "      <th>nccpi2co</th>\n",
       "      <th>nccpi2all</th>\n",
       "      <th>pctearthmc</th>\n",
       "      <th>rootznemc</th>\n",
       "      <th>rootznaws</th>\n",
       "      <th>droughty</th>\n",
       "      <th>pwsl1pomu</th>\n",
       "      <th>musumcpct</th>\n",
       "    </tr>\n",
       "  </thead>\n",
       "  <tbody>\n",
       "    <tr>\n",
       "      <th>0</th>\n",
       "      <td>0</td>\n",
       "      <td>0</td>\n",
       "      <td>1601875</td>\n",
       "      <td>55642</td>\n",
       "      <td>0.0</td>\n",
       "      <td>0.0</td>\n",
       "      <td>0.0</td>\n",
       "      <td>0.0</td>\n",
       "      <td>0.0</td>\n",
       "      <td>0.0</td>\n",
       "      <td>...</td>\n",
       "      <td>0.0</td>\n",
       "      <td>0.0</td>\n",
       "      <td>0.0</td>\n",
       "      <td>0.0</td>\n",
       "      <td>100</td>\n",
       "      <td>0</td>\n",
       "      <td>0.0</td>\n",
       "      <td>1</td>\n",
       "      <td>0</td>\n",
       "      <td>100</td>\n",
       "    </tr>\n",
       "    <tr>\n",
       "      <th>1</th>\n",
       "      <td>1</td>\n",
       "      <td>1</td>\n",
       "      <td>1601876</td>\n",
       "      <td>55643</td>\n",
       "      <td>0.0</td>\n",
       "      <td>0.0</td>\n",
       "      <td>0.0</td>\n",
       "      <td>0.0</td>\n",
       "      <td>0.0</td>\n",
       "      <td>0.0</td>\n",
       "      <td>...</td>\n",
       "      <td>0.0</td>\n",
       "      <td>0.0</td>\n",
       "      <td>0.0</td>\n",
       "      <td>0.0</td>\n",
       "      <td>100</td>\n",
       "      <td>0</td>\n",
       "      <td>0.0</td>\n",
       "      <td>1</td>\n",
       "      <td>0</td>\n",
       "      <td>100</td>\n",
       "    </tr>\n",
       "    <tr>\n",
       "      <th>2</th>\n",
       "      <td>2</td>\n",
       "      <td>2</td>\n",
       "      <td>1601877</td>\n",
       "      <td>55584</td>\n",
       "      <td>0.0</td>\n",
       "      <td>0.0</td>\n",
       "      <td>0.0</td>\n",
       "      <td>0.0</td>\n",
       "      <td>0.0</td>\n",
       "      <td>0.0</td>\n",
       "      <td>...</td>\n",
       "      <td>0.0</td>\n",
       "      <td>0.0</td>\n",
       "      <td>0.0</td>\n",
       "      <td>0.0</td>\n",
       "      <td>0</td>\n",
       "      <td>0</td>\n",
       "      <td>NaN</td>\n",
       "      <td>0</td>\n",
       "      <td>0</td>\n",
       "      <td>100</td>\n",
       "    </tr>\n",
       "    <tr>\n",
       "      <th>3</th>\n",
       "      <td>3</td>\n",
       "      <td>3</td>\n",
       "      <td>1601878</td>\n",
       "      <td>55622</td>\n",
       "      <td>0.0</td>\n",
       "      <td>0.0</td>\n",
       "      <td>0.0</td>\n",
       "      <td>0.0</td>\n",
       "      <td>0.0</td>\n",
       "      <td>0.0</td>\n",
       "      <td>...</td>\n",
       "      <td>0.0</td>\n",
       "      <td>0.0</td>\n",
       "      <td>0.0</td>\n",
       "      <td>0.0</td>\n",
       "      <td>0</td>\n",
       "      <td>0</td>\n",
       "      <td>NaN</td>\n",
       "      <td>0</td>\n",
       "      <td>999</td>\n",
       "      <td>100</td>\n",
       "    </tr>\n",
       "    <tr>\n",
       "      <th>4</th>\n",
       "      <td>4</td>\n",
       "      <td>4</td>\n",
       "      <td>1601879</td>\n",
       "      <td>55652</td>\n",
       "      <td>0.0</td>\n",
       "      <td>0.0</td>\n",
       "      <td>0.0</td>\n",
       "      <td>0.0</td>\n",
       "      <td>0.0</td>\n",
       "      <td>0.0</td>\n",
       "      <td>...</td>\n",
       "      <td>0.0</td>\n",
       "      <td>0.0</td>\n",
       "      <td>0.0</td>\n",
       "      <td>0.0</td>\n",
       "      <td>0</td>\n",
       "      <td>0</td>\n",
       "      <td>0.0</td>\n",
       "      <td>0</td>\n",
       "      <td>0</td>\n",
       "      <td>100</td>\n",
       "    </tr>\n",
       "  </tbody>\n",
       "</table>\n",
       "<p>5 rows × 49 columns</p>\n",
       "</div>"
      ],
      "text/plain": [
       "   Unnamed: 0  Unnamed: 0.1    mukey  OBJECTID_1  tk0_5a  tk5_20a  tk20_50a  \\\n",
       "0           0             0  1601875       55642     0.0      0.0       0.0   \n",
       "1           1             1  1601876       55643     0.0      0.0       0.0   \n",
       "2           2             2  1601877       55584     0.0      0.0       0.0   \n",
       "3           3             3  1601878       55622     0.0      0.0       0.0   \n",
       "4           4             4  1601879       55652     0.0      0.0       0.0   \n",
       "\n",
       "   tk50_100a  tk100_150a  tk150_999a    ...      nccpi2cs  nccpi2sg  nccpi2co  \\\n",
       "0        0.0         0.0         0.0    ...           0.0       0.0       0.0   \n",
       "1        0.0         0.0         0.0    ...           0.0       0.0       0.0   \n",
       "2        0.0         0.0         0.0    ...           0.0       0.0       0.0   \n",
       "3        0.0         0.0         0.0    ...           0.0       0.0       0.0   \n",
       "4        0.0         0.0         0.0    ...           0.0       0.0       0.0   \n",
       "\n",
       "   nccpi2all  pctearthmc  rootznemc  rootznaws  droughty  pwsl1pomu  musumcpct  \n",
       "0        0.0         100          0        0.0         1          0        100  \n",
       "1        0.0         100          0        0.0         1          0        100  \n",
       "2        0.0           0          0        NaN         0          0        100  \n",
       "3        0.0           0          0        NaN         0        999        100  \n",
       "4        0.0           0          0        0.0         0          0        100  \n",
       "\n",
       "[5 rows x 49 columns]"
      ]
     },
     "execution_count": 3,
     "metadata": {},
     "output_type": "execute_result"
    }
   ],
   "source": [
    "df1.head(5)"
   ]
  },
  {
   "cell_type": "code",
   "execution_count": 4,
   "metadata": {
    "collapsed": false
   },
   "outputs": [
    {
     "name": "stdout",
     "output_type": "stream",
     "text": [
      "<class 'pandas.core.frame.DataFrame'>\n",
      "RangeIndex: 10801 entries, 0 to 10800\n",
      "Data columns (total 49 columns):\n",
      "Unnamed: 0      10801 non-null int64\n",
      "Unnamed: 0.1    10801 non-null int64\n",
      "mukey           10801 non-null int64\n",
      "OBJECTID_1      10801 non-null int64\n",
      "tk0_5a          10801 non-null float64\n",
      "tk5_20a         10801 non-null float64\n",
      "tk20_50a        10801 non-null float64\n",
      "tk50_100a       10801 non-null float64\n",
      "tk100_150a      10801 non-null float64\n",
      "tk150_999a      10801 non-null float64\n",
      "tk0_20a         10801 non-null float64\n",
      "tk0_30a         10801 non-null float64\n",
      "tk0_100a        10801 non-null float64\n",
      "tk0_150a        10801 non-null float64\n",
      "tk0_999a        10801 non-null float64\n",
      "musumcpcta      10801 non-null int64\n",
      "soc0_5          10801 non-null float64\n",
      "soc5_20         10801 non-null float64\n",
      "soc20_50        10801 non-null float64\n",
      "soc50_100       10801 non-null float64\n",
      "soc100_150      10801 non-null float64\n",
      "soc150_999      10801 non-null float64\n",
      "soc0_20         10801 non-null float64\n",
      "soc0_30         10801 non-null float64\n",
      "soc0_100        10801 non-null float64\n",
      "soc0_150        10801 non-null float64\n",
      "soc0_999        10801 non-null float64\n",
      "tk0_5s          10801 non-null float64\n",
      "tk5_20s         10801 non-null float64\n",
      "tk20_50s        10801 non-null float64\n",
      "tk50_100s       10801 non-null float64\n",
      "tk100_150s      10801 non-null float64\n",
      "tk150_999s      10801 non-null float64\n",
      "tk0_20s         10801 non-null float64\n",
      "tk0_30s         10801 non-null float64\n",
      "tk0_100s        10801 non-null float64\n",
      "tk0_150s        10801 non-null float64\n",
      "tk0_999s        10801 non-null float64\n",
      "musumcpcts      10801 non-null int64\n",
      "nccpi2cs        10801 non-null float64\n",
      "nccpi2sg        10801 non-null float64\n",
      "nccpi2co        10801 non-null float64\n",
      "nccpi2all       10801 non-null float64\n",
      "pctearthmc      10801 non-null int64\n",
      "rootznemc       10801 non-null int64\n",
      "rootznaws       8801 non-null float64\n",
      "droughty        10801 non-null int64\n",
      "pwsl1pomu       10801 non-null int64\n",
      "musumcpct       10801 non-null int64\n",
      "dtypes: float64(38), int64(11)\n",
      "memory usage: 4.0 MB\n"
     ]
    }
   ],
   "source": [
    "df1.info() \n",
    "# only 'rootznaws' has missing values"
   ]
  },
  {
   "cell_type": "code",
   "execution_count": 5,
   "metadata": {
    "collapsed": false
   },
   "outputs": [
    {
     "data": {
      "text/plain": [
       "<matplotlib.axes._subplots.AxesSubplot at 0x111506d68>"
      ]
     },
     "execution_count": 5,
     "metadata": {},
     "output_type": "execute_result"
    },
    {
     "data": {
      "image/png": "[encoded data removed]",
      "text/plain": [
       "<matplotlib.figure.Figure at 0x1117b9630>"
      ]
     },
     "metadata": {},
     "output_type": "display_data"
    }
   ],
   "source": [
    "# distribution of rootznaws \n",
    "df1['rootznaws'].hist()"
   ]
  },
  {
   "cell_type": "markdown",
   "metadata": {},
   "source": [
    "The histogram above indicates that the value of feature 'rootznaws' is a contunous variable and is cencored around 400. The left histogram indicates that this feature follow a Gaussian distribution. It is possible that the missing values will be located at the right part of the Gaussian distribution. Initially, I thought about using KNN for missing value inference. Given that almost all the obsevations of 'rootznaws' with the value above 400 is missing, I figured out that it might not be a good solution. Instead, I will use Linear regression. It is a simple model and can be regarded as a baseline model"
   ]
  },
  {
   "cell_type": "code",
   "execution_count": 6,
   "metadata": {
    "collapsed": false
   },
   "outputs": [],
   "source": [
    "# get rid of ids and divide dataset into two parts\n",
    "# - 1, X_train, which has non-missing 'rootznaws'\n",
    "# - 2, X_missing, which has missing 'rootznaws'\n",
    "X = df1.iloc[:,4:][df1.rootznaws.notnull()]\n",
    "X_train = X.loc[:, X.columns != 'rootznaws']\n",
    "y_train = X['rootznaws']\n",
    "X_missing = df1.iloc[:,4:][df1.rootznaws.isnull()]\n",
    "X_missing = X.loc[:, X.columns != 'rootznaws']"
   ]
  },
  {
   "cell_type": "code",
   "execution_count": 7,
   "metadata": {
    "collapsed": true
   },
   "outputs": [],
   "source": [
    "from sklearn.linear_model import LinearRegression\n",
    "lm = LinearRegression()"
   ]
  },
  {
   "cell_type": "code",
   "execution_count": 8,
   "metadata": {
    "collapsed": false
   },
   "outputs": [
    {
     "data": {
      "text/plain": [
       "LinearRegression(copy_X=True, fit_intercept=True, n_jobs=1, normalize=False)"
      ]
     },
     "execution_count": 8,
     "metadata": {},
     "output_type": "execute_result"
    }
   ],
   "source": [
    "lm.fit(X_train, y_train)"
   ]
  },
  {
   "cell_type": "code",
   "execution_count": 9,
   "metadata": {
    "collapsed": true
   },
   "outputs": [],
   "source": [
    "y_pred = lm.predict(X_missing)"
   ]
  },
  {
   "cell_type": "code",
   "execution_count": 10,
   "metadata": {
    "collapsed": false
   },
   "outputs": [
    {
     "data": {
      "image/png": "[encoded data removed]",
      "text/plain": [
       "<matplotlib.figure.Figure at 0x111493400>"
      ]
     },
     "metadata": {},
     "output_type": "display_data"
    }
   ],
   "source": [
    "# Plot outputs\n",
    "# x-axis, actual value; \n",
    "# y-axis, predicted value.\n",
    "fig = plt.figure(figsize=(8,8))\n",
    "ax = fig.add_subplot(111)\n",
    "\n",
    "ax.set_xlabel('actual')\n",
    "ax.set_ylabel('predicted')\n",
    "\n",
    "plt.scatter(y_train, y_pred, color='black', alpha = .1)\n",
    "\n",
    "# diagnoal line indicating perfect prediction\n",
    "plt.plot(np.arange(0, 600), np.arange(0, 600)) \n",
    "\n",
    "plt.show()"
   ]
  },
  {
   "cell_type": "code",
   "execution_count": 11,
   "metadata": {
    "collapsed": false
   },
   "outputs": [
    {
     "data": {
      "text/plain": [
       "1413.281060713126"
      ]
     },
     "execution_count": 11,
     "metadata": {},
     "output_type": "execute_result"
    }
   ],
   "source": [
    "from sklearn.metrics import mean_squared_error\n",
    "mean_squared_error(y_train, y_pred)"
   ]
  },
  {
   "cell_type": "markdown",
   "metadata": {},
   "source": [
    "### Exercise 2\n",
    "\n",
    "In the \"muaggatt\" file, you'll find some additional parameters keyed to the mukey variable.  \n",
    "\n",
    "- Load this dataset, and evaluate how much the additional covariates in this dataset can improve the accuracy of your model."
   ]
  },
  {
   "cell_type": "code",
   "execution_count": 12,
   "metadata": {
    "collapsed": true
   },
   "outputs": [],
   "source": [
    "df2 = pd.read_csv('./data/muaggatt.txt')"
   ]
  },
  {
   "cell_type": "code",
   "execution_count": 13,
   "metadata": {
    "collapsed": false
   },
   "outputs": [
    {
     "data": {
      "text/html": [
       "<div>\n",
       "<style>\n",
       "    .dataframe thead tr:only-child th {\n",
       "        text-align: right;\n",
       "    }\n",
       "\n",
       "    .dataframe thead th {\n",
       "        text-align: left;\n",
       "    }\n",
       "\n",
       "    .dataframe tbody tr th {\n",
       "        vertical-align: top;\n",
       "    }\n",
       "</style>\n",
       "<table border=\"1\" class=\"dataframe\">\n",
       "  <thead>\n",
       "    <tr style=\"text-align: right;\">\n",
       "      <th></th>\n",
       "      <th>OBJECTID</th>\n",
       "      <th>musym</th>\n",
       "      <th>muname</th>\n",
       "      <th>mustatus</th>\n",
       "      <th>slopegraddcp</th>\n",
       "      <th>slopegradwta</th>\n",
       "      <th>brockdepmin</th>\n",
       "      <th>wtdepannmin</th>\n",
       "      <th>wtdepaprjunmin</th>\n",
       "      <th>flodfreqdcd</th>\n",
       "      <th>...</th>\n",
       "      <th>engsldcp</th>\n",
       "      <th>englrsdcd</th>\n",
       "      <th>engcmssdcd</th>\n",
       "      <th>engcmssmp</th>\n",
       "      <th>urbrecptdcd</th>\n",
       "      <th>urbrecptwta</th>\n",
       "      <th>forpehrtdcp</th>\n",
       "      <th>hydclprs</th>\n",
       "      <th>awmmfpwwta</th>\n",
       "      <th>mukey</th>\n",
       "    </tr>\n",
       "  </thead>\n",
       "  <tbody>\n",
       "    <tr>\n",
       "      <th>0</th>\n",
       "      <td>1</td>\n",
       "      <td>5040</td>\n",
       "      <td>Orthents, loamy</td>\n",
       "      <td>NaN</td>\n",
       "      <td>0.0</td>\n",
       "      <td>0.0</td>\n",
       "      <td>0</td>\n",
       "      <td>0</td>\n",
       "      <td>0</td>\n",
       "      <td>NaN</td>\n",
       "      <td>...</td>\n",
       "      <td>Not rated</td>\n",
       "      <td>Not rated</td>\n",
       "      <td>Not rated</td>\n",
       "      <td>Not rated</td>\n",
       "      <td>Not rated</td>\n",
       "      <td>0.0</td>\n",
       "      <td>Not rated</td>\n",
       "      <td>0</td>\n",
       "      <td>0.0</td>\n",
       "      <td>1601875</td>\n",
       "    </tr>\n",
       "    <tr>\n",
       "      <th>1</th>\n",
       "      <td>2</td>\n",
       "      <td>5080</td>\n",
       "      <td>Orthents, sanitary landfill</td>\n",
       "      <td>NaN</td>\n",
       "      <td>14.0</td>\n",
       "      <td>14.0</td>\n",
       "      <td>0</td>\n",
       "      <td>0</td>\n",
       "      <td>0</td>\n",
       "      <td>None</td>\n",
       "      <td>...</td>\n",
       "      <td>Not rated</td>\n",
       "      <td>Not rated</td>\n",
       "      <td>Not rated</td>\n",
       "      <td>Not rated</td>\n",
       "      <td>Not rated</td>\n",
       "      <td>0.0</td>\n",
       "      <td>Not rated</td>\n",
       "      <td>0</td>\n",
       "      <td>0.0</td>\n",
       "      <td>1601876</td>\n",
       "    </tr>\n",
       "  </tbody>\n",
       "</table>\n",
       "<p>2 rows × 41 columns</p>\n",
       "</div>"
      ],
      "text/plain": [
       "   OBJECTID musym                       muname  mustatus  slopegraddcp  \\\n",
       "0         1  5040              Orthents, loamy       NaN           0.0   \n",
       "1         2  5080  Orthents, sanitary landfill       NaN          14.0   \n",
       "\n",
       "   slopegradwta  brockdepmin  wtdepannmin  wtdepaprjunmin flodfreqdcd  \\\n",
       "0           0.0            0            0               0         NaN   \n",
       "1          14.0            0            0               0        None   \n",
       "\n",
       "    ...      engsldcp  englrsdcd  engcmssdcd  engcmssmp  urbrecptdcd  \\\n",
       "0   ...     Not rated  Not rated   Not rated  Not rated    Not rated   \n",
       "1   ...     Not rated  Not rated   Not rated  Not rated    Not rated   \n",
       "\n",
       "   urbrecptwta forpehrtdcp hydclprs awmmfpwwta    mukey  \n",
       "0          0.0   Not rated        0        0.0  1601875  \n",
       "1          0.0   Not rated        0        0.0  1601876  \n",
       "\n",
       "[2 rows x 41 columns]"
      ]
     },
     "execution_count": 13,
     "metadata": {},
     "output_type": "execute_result"
    }
   ],
   "source": [
    "df2.head(2)"
   ]
  },
  {
   "cell_type": "code",
   "execution_count": 14,
   "metadata": {
    "collapsed": false
   },
   "outputs": [
    {
     "name": "stdout",
     "output_type": "stream",
     "text": [
      "<class 'pandas.core.frame.DataFrame'>\n",
      "RangeIndex: 10801 entries, 0 to 10800\n",
      "Data columns (total 41 columns):\n",
      "OBJECTID          10801 non-null int64\n",
      "musym             10801 non-null object\n",
      "muname            10801 non-null object\n",
      "mustatus          0 non-null float64\n",
      "slopegraddcp      10801 non-null float64\n",
      "slopegradwta      10801 non-null float64\n",
      "brockdepmin       10801 non-null int64\n",
      "wtdepannmin       10801 non-null int64\n",
      "wtdepaprjunmin    10801 non-null int64\n",
      "flodfreqdcd       10431 non-null object\n",
      "flodfreqmax       10433 non-null object\n",
      "pondfreqprs       10801 non-null int64\n",
      "aws025wta         10801 non-null float64\n",
      "aws050wta         10801 non-null float64\n",
      "aws0100wta        10801 non-null float64\n",
      "aws0150wta        10801 non-null float64\n",
      "drclassdcd        10115 non-null object\n",
      "drclasswettest    10121 non-null object\n",
      "hydgrpdcd         10056 non-null object\n",
      "iccdcd            196 non-null float64\n",
      "iccdcdpct         10801 non-null int64\n",
      "niccdcd           10071 non-null float64\n",
      "niccdcdpct        10801 non-null int64\n",
      "engdwobdcd        10801 non-null object\n",
      "engdwbdcd         10801 non-null object\n",
      "engdwbll          10801 non-null object\n",
      "engdwbml          10801 non-null object\n",
      "engstafdcd        10801 non-null object\n",
      "engstafll         10801 non-null object\n",
      "engstafml         10801 non-null object\n",
      "engsldcd          10801 non-null object\n",
      "engsldcp          10801 non-null object\n",
      "englrsdcd         10801 non-null object\n",
      "engcmssdcd        10801 non-null object\n",
      "engcmssmp         10801 non-null object\n",
      "urbrecptdcd       10801 non-null object\n",
      "urbrecptwta       10801 non-null float64\n",
      "forpehrtdcp       10801 non-null object\n",
      "hydclprs          10801 non-null int64\n",
      "awmmfpwwta        10801 non-null float64\n",
      "mukey             10801 non-null int64\n",
      "dtypes: float64(11), int64(9), object(21)\n",
      "memory usage: 3.4+ MB\n"
     ]
    }
   ],
   "source": [
    "df2.info()"
   ]
  },
  {
   "cell_type": "code",
   "execution_count": 15,
   "metadata": {
    "collapsed": true
   },
   "outputs": [],
   "source": [
    "df2 = df2.dropna(axis = 1)"
   ]
  },
  {
   "cell_type": "code",
   "execution_count": 16,
   "metadata": {
    "collapsed": false
   },
   "outputs": [
    {
     "name": "stdout",
     "output_type": "stream",
     "text": [
      "<class 'pandas.core.frame.DataFrame'>\n",
      "RangeIndex: 10801 entries, 0 to 10800\n",
      "Data columns (total 33 columns):\n",
      "OBJECTID          10801 non-null int64\n",
      "musym             10801 non-null object\n",
      "muname            10801 non-null object\n",
      "slopegraddcp      10801 non-null float64\n",
      "slopegradwta      10801 non-null float64\n",
      "brockdepmin       10801 non-null int64\n",
      "wtdepannmin       10801 non-null int64\n",
      "wtdepaprjunmin    10801 non-null int64\n",
      "pondfreqprs       10801 non-null int64\n",
      "aws025wta         10801 non-null float64\n",
      "aws050wta         10801 non-null float64\n",
      "aws0100wta        10801 non-null float64\n",
      "aws0150wta        10801 non-null float64\n",
      "iccdcdpct         10801 non-null int64\n",
      "niccdcdpct        10801 non-null int64\n",
      "engdwobdcd        10801 non-null object\n",
      "engdwbdcd         10801 non-null object\n",
      "engdwbll          10801 non-null object\n",
      "engdwbml          10801 non-null object\n",
      "engstafdcd        10801 non-null object\n",
      "engstafll         10801 non-null object\n",
      "engstafml         10801 non-null object\n",
      "engsldcd          10801 non-null object\n",
      "engsldcp          10801 non-null object\n",
      "englrsdcd         10801 non-null object\n",
      "engcmssdcd        10801 non-null object\n",
      "engcmssmp         10801 non-null object\n",
      "urbrecptdcd       10801 non-null object\n",
      "urbrecptwta       10801 non-null float64\n",
      "forpehrtdcp       10801 non-null object\n",
      "hydclprs          10801 non-null int64\n",
      "awmmfpwwta        10801 non-null float64\n",
      "mukey             10801 non-null int64\n",
      "dtypes: float64(8), int64(9), object(16)\n",
      "memory usage: 2.7+ MB\n"
     ]
    }
   ],
   "source": [
    "df2.info()"
   ]
  },
  {
   "cell_type": "code",
   "execution_count": 17,
   "metadata": {
    "collapsed": false
   },
   "outputs": [],
   "source": [
    "df3 = df1.merge(df2, left_on = 'mukey', right_on = 'mukey', how = 'left', suffixes=['', '_y'])"
   ]
  },
  {
   "cell_type": "code",
   "execution_count": 18,
   "metadata": {
    "collapsed": false
   },
   "outputs": [
    {
     "name": "stdout",
     "output_type": "stream",
     "text": [
      "<class 'pandas.core.frame.DataFrame'>\n",
      "Int64Index: 10801 entries, 0 to 10800\n",
      "Data columns (total 81 columns):\n",
      "Unnamed: 0        10801 non-null int64\n",
      "Unnamed: 0.1      10801 non-null int64\n",
      "mukey             10801 non-null int64\n",
      "OBJECTID_1        10801 non-null int64\n",
      "tk0_5a            10801 non-null float64\n",
      "tk5_20a           10801 non-null float64\n",
      "tk20_50a          10801 non-null float64\n",
      "tk50_100a         10801 non-null float64\n",
      "tk100_150a        10801 non-null float64\n",
      "tk150_999a        10801 non-null float64\n",
      "tk0_20a           10801 non-null float64\n",
      "tk0_30a           10801 non-null float64\n",
      "tk0_100a          10801 non-null float64\n",
      "tk0_150a          10801 non-null float64\n",
      "tk0_999a          10801 non-null float64\n",
      "musumcpcta        10801 non-null int64\n",
      "soc0_5            10801 non-null float64\n",
      "soc5_20           10801 non-null float64\n",
      "soc20_50          10801 non-null float64\n",
      "soc50_100         10801 non-null float64\n",
      "soc100_150        10801 non-null float64\n",
      "soc150_999        10801 non-null float64\n",
      "soc0_20           10801 non-null float64\n",
      "soc0_30           10801 non-null float64\n",
      "soc0_100          10801 non-null float64\n",
      "soc0_150          10801 non-null float64\n",
      "soc0_999          10801 non-null float64\n",
      "tk0_5s            10801 non-null float64\n",
      "tk5_20s           10801 non-null float64\n",
      "tk20_50s          10801 non-null float64\n",
      "tk50_100s         10801 non-null float64\n",
      "tk100_150s        10801 non-null float64\n",
      "tk150_999s        10801 non-null float64\n",
      "tk0_20s           10801 non-null float64\n",
      "tk0_30s           10801 non-null float64\n",
      "tk0_100s          10801 non-null float64\n",
      "tk0_150s          10801 non-null float64\n",
      "tk0_999s          10801 non-null float64\n",
      "musumcpcts        10801 non-null int64\n",
      "nccpi2cs          10801 non-null float64\n",
      "nccpi2sg          10801 non-null float64\n",
      "nccpi2co          10801 non-null float64\n",
      "nccpi2all         10801 non-null float64\n",
      "pctearthmc        10801 non-null int64\n",
      "rootznemc         10801 non-null int64\n",
      "rootznaws         8801 non-null float64\n",
      "droughty          10801 non-null int64\n",
      "pwsl1pomu         10801 non-null int64\n",
      "musumcpct         10801 non-null int64\n",
      "OBJECTID          10801 non-null int64\n",
      "musym             10801 non-null object\n",
      "muname            10801 non-null object\n",
      "slopegraddcp      10801 non-null float64\n",
      "slopegradwta      10801 non-null float64\n",
      "brockdepmin       10801 non-null int64\n",
      "wtdepannmin       10801 non-null int64\n",
      "wtdepaprjunmin    10801 non-null int64\n",
      "pondfreqprs       10801 non-null int64\n",
      "aws025wta         10801 non-null float64\n",
      "aws050wta         10801 non-null float64\n",
      "aws0100wta        10801 non-null float64\n",
      "aws0150wta        10801 non-null float64\n",
      "iccdcdpct         10801 non-null int64\n",
      "niccdcdpct        10801 non-null int64\n",
      "engdwobdcd        10801 non-null object\n",
      "engdwbdcd         10801 non-null object\n",
      "engdwbll          10801 non-null object\n",
      "engdwbml          10801 non-null object\n",
      "engstafdcd        10801 non-null object\n",
      "engstafll         10801 non-null object\n",
      "engstafml         10801 non-null object\n",
      "engsldcd          10801 non-null object\n",
      "engsldcp          10801 non-null object\n",
      "englrsdcd         10801 non-null object\n",
      "engcmssdcd        10801 non-null object\n",
      "engcmssmp         10801 non-null object\n",
      "urbrecptdcd       10801 non-null object\n",
      "urbrecptwta       10801 non-null float64\n",
      "forpehrtdcp       10801 non-null object\n",
      "hydclprs          10801 non-null int64\n",
      "awmmfpwwta        10801 non-null float64\n",
      "dtypes: float64(46), int64(19), object(16)\n",
      "memory usage: 6.8+ MB\n"
     ]
    }
   ],
   "source": [
    "df3.info()"
   ]
  },
  {
   "cell_type": "code",
   "execution_count": 19,
   "metadata": {
    "collapsed": false
   },
   "outputs": [],
   "source": [
    "# similar to the Exercise 1, but will get rid of categorical variables first due to limited time for processing them\n",
    "X = df3.iloc[:,list(df3.dtypes != 'object')]\n",
    "X = X.iloc[:,4:][X.rootznaws.notnull()]\n",
    "X_train = X.loc[:, X.columns != 'rootznaws']\n",
    "y_train = X['rootznaws']\n",
    "X_missing = df1.iloc[:,4:][df1.rootznaws.isnull()]\n",
    "X_missing = X.loc[:, X.columns != 'rootznaws']"
   ]
  },
  {
   "cell_type": "code",
   "execution_count": 20,
   "metadata": {
    "collapsed": false
   },
   "outputs": [
    {
     "data": {
      "text/plain": [
       "LinearRegression(copy_X=True, fit_intercept=True, n_jobs=1, normalize=False)"
      ]
     },
     "execution_count": 20,
     "metadata": {},
     "output_type": "execute_result"
    }
   ],
   "source": [
    "lm.fit(X_train, y_train)"
   ]
  },
  {
   "cell_type": "code",
   "execution_count": 21,
   "metadata": {
    "collapsed": true
   },
   "outputs": [],
   "source": [
    "y_pred = lm.predict(X_missing)"
   ]
  },
  {
   "cell_type": "code",
   "execution_count": 22,
   "metadata": {
    "collapsed": false
   },
   "outputs": [
    {
     "data": {
      "image/png": "[encoded data removed]",
      "text/plain": [
       "<matplotlib.figure.Figure at 0x117701470>"
      ]
     },
     "metadata": {},
     "output_type": "display_data"
    }
   ],
   "source": [
    "# Plot outputs\n",
    "# x-axis, actual value; \n",
    "# y-axis, predicted value.\n",
    "fig = plt.figure(figsize=(8,8))\n",
    "ax = fig.add_subplot(111)\n",
    "\n",
    "ax.set_xlabel('actual')\n",
    "ax.set_ylabel('predicted')\n",
    "\n",
    "plt.scatter(y_train, y_pred, color='black', alpha = .1)\n",
    "\n",
    "# diagnoal line indicating perfect prediction\n",
    "plt.plot(np.arange(0, 600), np.arange(0, 600)) \n",
    "\n",
    "plt.show()"
   ]
  },
  {
   "cell_type": "code",
   "execution_count": 23,
   "metadata": {
    "collapsed": false
   },
   "outputs": [
    {
     "data": {
      "text/plain": [
       "283.33901144083922"
      ]
     },
     "execution_count": 23,
     "metadata": {},
     "output_type": "execute_result"
    }
   ],
   "source": [
    "from sklearn.metrics import mean_squared_error\n",
    "mean_squared_error(y_train, y_pred)"
   ]
  },
  {
   "cell_type": "markdown",
   "metadata": {},
   "source": [
    "Bothe the 'actual' vs 'predicted' plot and mean squared error confirms that the added features improved the model performance"
   ]
  },
  {
   "cell_type": "code",
   "execution_count": null,
   "metadata": {
    "collapsed": true
   },
   "outputs": [],
   "source": []
  }
 ],
 "metadata": {
  "anaconda-cloud": {},
  "kernelspec": {
   "display_name": "Python [Root]",
   "language": "python",
   "name": "Python [Root]"
  },
  "language_info": {
   "codemirror_mode": {
    "name": "ipython",
    "version": 3
   },
   "file_extension": ".py",
   "mimetype": "text/x-python",
   "name": "python",
   "nbconvert_exporter": "python",
   "pygments_lexer": "ipython3",
   "version": "3.5.1"
  }
 },
 "nbformat": 4,
 "nbformat_minor": 0
}
