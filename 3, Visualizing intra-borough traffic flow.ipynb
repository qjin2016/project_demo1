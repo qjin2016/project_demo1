{
 "cells": [
  {
   "cell_type": "markdown",
   "metadata": {
    "collapsed": true
   },
   "source": [
    "## This notebook is for generating data for visualization, illustrating development process and providing instructions for running visualization code.\n",
    "\n",
    "The interactive visualization was wrote in d3 with other web development tools such as jQuery and a jQuery plugin called roundSlider for implementing a circular slider bar as a controlling tool to interact with the visualization.\n",
    "\n",
    "The visualization used chord diagram (https://en.wikipedia.org/wiki/Chord_diagram) to represent the inter-/intra-borough traffic. There is a circular slider bar at the top left corner, which represents a clock with 24 hours. The user can drag the round slider to explore the traffic flow as time progresses during a day. The center of the circular slider bar shows text to indicate the hour of the day. Some of the code for implementing this visualization was borrowed from http://projects.delimited.io/experiments/chord-diagrams/hair.html\n",
    "\n",
    "\n",
    "## Task 5\n",
    "* Visualization.\n",
    "\n",
    "Can you build a visualization (interactive or static) of the trip data that helps us understand intra- vs. inter-borough traffic? What story does it tell about how New Yorkers use their green taxis?"
   ]
  },
  {
   "cell_type": "markdown",
   "metadata": {},
   "source": [
    "## magic shortcuts to subsections:\n",
    "\n",
    "* [Generating data](#1)\n",
    "\n",
    "* [Development process](#2)\n",
    "\n",
    "* [How to run visualization code](#3)\n",
    "\n",
    "* [Conclusion](#4)"
   ]
  },
  {
   "cell_type": "markdown",
   "metadata": {},
   "source": [
    "<a id = 1> </a>\n",
    "### Generating data\n",
    "\n",
    "The purpose of this section is to calculate the data needed for visualization. We will group all the transactions by 0-23 hour of the day and five boroughs. In the end, we will have a table with the number of trips happened in each of the borough area from 0 to 23 o'clock"
   ]
  },
  {
   "cell_type": "code",
   "execution_count": 1,
   "metadata": {
    "collapsed": true
   },
   "outputs": [],
   "source": [
    "# load library\n",
    "import pandas as pd\n",
    "import pickle"
   ]
  },
  {
   "cell_type": "code",
   "execution_count": 3,
   "metadata": {
    "collapsed": true
   },
   "outputs": [],
   "source": [
    "# pick-up hour\n",
    "pick_up_hr = pd.DatetimeIndex(dataset['lpep_pickup_datetime'])\n",
    "pick_up_hr = pick_up_hr.hour"
   ]
  },
  {
   "cell_type": "code",
   "execution_count": 6,
   "metadata": {
    "collapsed": false
   },
   "outputs": [],
   "source": [
    "# load pickup and dropoff boro\n",
    "pickup_boro = pickle.load(open('./data/pickup_boro.p', 'rb' ))\n",
    "dropoff_boro = pickle.load(open('./data/dropoff_boro.p', 'rb' ))"
   ]
  },
  {
   "cell_type": "code",
   "execution_count": 8,
   "metadata": {
    "collapsed": true
   },
   "outputs": [],
   "source": [
    "dataset = pd.DataFrame({'hr': pick_up_hr, 'pickup_boro': pickup_boro, 'dropoff_boro': dropoff_boro})"
   ]
  },
  {
   "cell_type": "code",
   "execution_count": 18,
   "metadata": {
    "collapsed": false
   },
   "outputs": [],
   "source": [
    "# map integer endoing into real names\n",
    "dataset['pickup_boro'].replace([0, 1, 2, 3, 4, 5],\n",
    "                               ['Other', 'Manhattan', 'Bronx', 'Brooklyn', 'Queens', 'Staten_Island'],\n",
    "                              inplace = True)"
   ]
  },
  {
   "cell_type": "code",
   "execution_count": 19,
   "metadata": {
    "collapsed": true
   },
   "outputs": [],
   "source": [
    "dataset['dropoff_boro'].replace([0, 1, 2, 3, 4, 5],\n",
    "                               ['Other', 'Manhattan', 'Bronx', 'Brooklyn', 'Queens', 'Staten_Island'],\n",
    "                              inplace = True)"
   ]
  },
  {
   "cell_type": "code",
   "execution_count": 21,
   "metadata": {
    "collapsed": false
   },
   "outputs": [],
   "source": [
    "# calculated data needed\n",
    "dataset_summary = dataset.groupby(['hr', 'pickup_boro', 'dropoff_boro']).size().reset_index(name='count')"
   ]
  },
  {
   "cell_type": "code",
   "execution_count": 23,
   "metadata": {
    "collapsed": false
   },
   "outputs": [
    {
     "data": {
      "text/html": [
       "<div>\n",
       "<table border=\"1\" class=\"dataframe\">\n",
       "  <thead>\n",
       "    <tr style=\"text-align: right;\">\n",
       "      <th></th>\n",
       "      <th>hr</th>\n",
       "      <th>pickup_boro</th>\n",
       "      <th>dropoff_boro</th>\n",
       "      <th>count</th>\n",
       "    </tr>\n",
       "  </thead>\n",
       "  <tbody>\n",
       "    <tr>\n",
       "      <th>0</th>\n",
       "      <td>0</td>\n",
       "      <td>Bronx</td>\n",
       "      <td>Bronx</td>\n",
       "      <td>16400</td>\n",
       "    </tr>\n",
       "    <tr>\n",
       "      <th>1</th>\n",
       "      <td>0</td>\n",
       "      <td>Bronx</td>\n",
       "      <td>Brooklyn</td>\n",
       "      <td>5</td>\n",
       "    </tr>\n",
       "  </tbody>\n",
       "</table>\n",
       "</div>"
      ],
      "text/plain": [
       "   hr pickup_boro dropoff_boro  count\n",
       "0   0       Bronx        Bronx  16400\n",
       "1   0       Bronx     Brooklyn      5"
      ]
     },
     "execution_count": 23,
     "metadata": {},
     "output_type": "execute_result"
    }
   ],
   "source": [
    "dataset_summary.head(2)"
   ]
  },
  {
   "cell_type": "code",
   "execution_count": 45,
   "metadata": {
    "collapsed": false
   },
   "outputs": [],
   "source": [
    "# save data\n",
    "for i in range(24):\n",
    "    data_2_save = dataset_summary[dataset_summary['hr'] == i].iloc[:, 1:4]\n",
    "    file_path = './data/viz_data/' + str(i) + '.csv'\n",
    "    data_2_save.to_csv(file_path, index = False, header = True)"
   ]
  },
  {
   "cell_type": "markdown",
   "metadata": {
    "collapsed": true
   },
   "source": [
    "<a id = 2> </a>\n",
    "### Development process\n",
    "\n",
    "This section shows how the visualization was developed step by step. Draft and different versions will be presented."
   ]
  },
  {
   "cell_type": "markdown",
   "metadata": {},
   "source": [
    "* The journey started with a hand draft:\n",
    "\n",
    "<img src = './development_process/1.jpeg' height=\"200\" width=\"200\">"
   ]
  },
  {
   "cell_type": "markdown",
   "metadata": {},
   "source": [
    "* First version:\n",
    "    \n",
    "<img src = './development_process/2.png' height=\"400\" width=\"500\">"
   ]
  },
  {
   "cell_type": "markdown",
   "metadata": {},
   "source": [
    "* Final version:\n",
    "\n",
    "    - Improved color schema\n",
    "    - Improved UI by using a circular bar to repsent a 24-hour clock\n",
    "    \n",
    "<img src = './development_process/3.png' height=\"500\" width=\"600\">"
   ]
  },
  {
   "cell_type": "markdown",
   "metadata": {},
   "source": [
    "<a id = 3> </a>\n",
    "### How to run visualization code\n",
    "\n",
    "This visualization was developed with mac and tested only in Chrome. It is highly recommended to run the code on a mac computer and view the visualization in Chrome.\n",
    "\n",
    "http://students.washington.edu/jinqu/viz_traffic_boro/\n",
    "\n"
   ]
  },
  {
   "cell_type": "markdown",
   "metadata": {},
   "source": [
    "<a id = 4> </a>\n",
    "### Conclusion\n",
    "\n",
    "This visualization tool provides an interactive and qualitative overview of both inter- and intra-borough green cab traffic flow in New York City and would help users better understand the dynamic of green cab customers travelling behavior. \n",
    "\n",
    "For example, the following diagram shows all the trips happened at 0:00 a.m. :\n",
    "\n",
    "<img src = './development_process/a-1.png' height=\"400\" width=\"500\">\n",
    "\n",
    "It's easy to find out that most of the trips happened in Manhattan, Bronx and Queens. Manhattan had the largest number of trips compared with other areas. Intra-borough traffic was the predominant traffic flow in all of these three boroughs. \n",
    "\n",
    "At 4:00 a.m., the traffic flow shifted. Trips at the Bronx area increased a lot and became as busy as the Manhattan area while trips at the Queens area decreased:\n",
    "\n",
    "<img src = './development_process/a-2.png' height=\"400\" width=\"500\">\n",
    "\n",
    "At 6:00 a.m. , Queens suddenly became the most busy area:\n",
    "\n",
    "<img src = './development_process/a-3.png' height=\"400\" width=\"500\">\n",
    "\n",
    "The above situation continued until 22:00, the Manhattan area re-claimed as the most busy area:\n",
    "\n",
    "<img src = './development_process/a-4.png' height=\"400\" width=\"500\">\n",
    "\n",
    "This is just one story that user can learn from this visualization tool and illustrates its effectiveness in conveying information about traffic flow dynamics. The user can also focus upon one area and watch closely how inter- and intra-borough change over time in that area, etc."
   ]
  }
 ],
 "metadata": {
  "anaconda-cloud": {},
  "kernelspec": {
   "display_name": "Python [Root]",
   "language": "python",
   "name": "Python [Root]"
  },
  "language_info": {
   "codemirror_mode": {
    "name": "ipython",
    "version": 3
   },
   "file_extension": ".py",
   "mimetype": "text/x-python",
   "name": "python",
   "nbconvert_exporter": "python",
   "pygments_lexer": "ipython3",
   "version": "3.5.1"
  }
 },
 "nbformat": 4,
 "nbformat_minor": 0
}
