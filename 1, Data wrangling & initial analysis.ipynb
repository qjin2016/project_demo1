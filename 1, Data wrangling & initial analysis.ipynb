{
 "cells": [
  {
   "cell_type": "markdown",
   "metadata": {},
   "source": [
    "## This notebook is for providing analysis for Task 1 through Task 3\n",
    "\n",
    "\n",
    "## magic shortcuts:\n",
    "\n",
    "* [Task 1](#Q1) : Download data\n",
    "\n",
    "* [Task 2](#Q2) : Trip distance analysis & modeling\n",
    "\n",
    "* [Task 3](#Q3) : Some interesting patterns of trips around airports"
   ]
  },
  {
   "cell_type": "markdown",
   "metadata": {},
   "source": [
    "<a id = Q1> </a>\n",
    "## Task 1\n",
    "\n",
    "* 1.1 Programmatically download and load into your favorite analytical tool the trip data for September 2015.\n",
    "* 1.2 Report how many rows and columns of data you have loaded."
   ]
  },
  {
   "cell_type": "code",
   "execution_count": 1,
   "metadata": {
    "collapsed": true
   },
   "outputs": [],
   "source": [
    "# load library\n",
    "import urllib.request as downloader # download\n",
    "import os\n",
    "import pandas as pd # data analysis\n",
    "import seaborn as sns # visualization\n",
    "import numpy as np\n",
    "%matplotlib inline"
   ]
  },
  {
   "cell_type": "code",
   "execution_count": 2,
   "metadata": {
    "collapsed": true
   },
   "outputs": [],
   "source": [
    "def download_data():  \n",
    "    \"\"\"\n",
    "    Download and save data at 'current_dir/data/'\n",
    "    \n",
    "    \"\"\"\n",
    "    # check if folder already exists in current dirctory, create one if not\n",
    "    data_folder = os.getcwd() + '/data'\n",
    "    if not os.path.exists(data_folder):\n",
    "        os.mkdir(data_folder)\n",
    "        \n",
    "    # check if file already exists, download data if not\n",
    "    data_file = data_folder + '/green_tripdata_2015-09.csv'\n",
    "    \n",
    "    if not os.path.exists(data_file):\n",
    "        # download\n",
    "        url = 'https://s3.amazonaws.com/nyc-tlc/trip+data/green_tripdata_2015-09.csv'\n",
    "        downloader.urlretrieve(url, data_file)\n",
    "        \n",
    "        # check if download is complete\n",
    "        downloaded = os.stat(data_file)[6] # downloaded data size\n",
    "        # total size\n",
    "        total_size = downloader.urlopen(url).getheaders()[-3][1]\n",
    "        \n",
    "        if downloaded == int(total_size):\n",
    "            print('file has been saved as: ' + data_file)\n",
    "        else:\n",
    "            print('incomplete download, please retry')\n",
    "    \n",
    "    else:\n",
    "        print('file already exists!')"
   ]
  },
  {
   "cell_type": "code",
   "execution_count": 3,
   "metadata": {
    "collapsed": false
   },
   "outputs": [
    {
     "name": "stdout",
     "output_type": "stream",
     "text": [
      "file already exists!\n"
     ]
    }
   ],
   "source": [
    "download_data()"
   ]
  },
  {
   "cell_type": "code",
   "execution_count": 4,
   "metadata": {
    "collapsed": false
   },
   "outputs": [
    {
     "name": "stdout",
     "output_type": "stream",
     "text": [
      "1494926 rows and 21 columns have been loaded\n"
     ]
    }
   ],
   "source": [
    "# load data into pandas\n",
    "dataset = pd.read_csv('./data/green_tripdata_2015-09.csv')\n",
    "\n",
    "# reaport rows and columns have been loaded\n",
    "print('%i rows and %i columns have been loaded' % (dataset.shape[0], dataset.shape[1]))"
   ]
  },
  {
   "cell_type": "markdown",
   "metadata": {},
   "source": [
    "<a id = Q2> </a>\n",
    "## Task 2\n",
    "* 2.1 Plot a histogram of the number of the trip distance (\"Trip Distance\").\n",
    "* 2.2 Report any structure you find and any hypotheses you have about that structure."
   ]
  },
  {
   "cell_type": "markdown",
   "metadata": {},
   "source": [
    "### overall trip distance distribution"
   ]
  },
  {
   "cell_type": "code",
   "execution_count": 43,
   "metadata": {
    "collapsed": false,
    "scrolled": false
   },
   "outputs": [
    {
     "data": {
      "text/plain": [
       "(0, 700.0)"
      ]
     },
     "execution_count": 43,
     "metadata": {},
     "output_type": "execute_result"
    },
    {
     "data": {
      "image/png": "[encoded data removed]",
      "text/plain": [
       "<matplotlib.figure.Figure at 0x11c515668>"
      ]
     },
     "metadata": {},
     "output_type": "display_data"
    }
   ],
   "source": [
    "sns.set(rc={\"figure.figsize\": (16, 8)});\n",
    "hist1 = sns.distplot(dataset.Trip_distance, axlabel = 'Trip Distance')\n",
    "axes = hist1.axes\n",
    "axes.set_xlim(0, )"
   ]
  },
  {
   "cell_type": "markdown",
   "metadata": {},
   "source": [
    "### To get a closer view of the high-piked trip distance distribution, we will only look at the trips less than 20 miles"
   ]
  },
  {
   "cell_type": "code",
   "execution_count": 140,
   "metadata": {
    "collapsed": false
   },
   "outputs": [
    {
     "data": {
      "text/plain": [
       "(0, 25.0)"
      ]
     },
     "execution_count": 140,
     "metadata": {},
     "output_type": "execute_result"
    },
    {
     "data": {
      "image/png": "[encoded data removed]",
      "text/plain": [
       "<matplotlib.figure.Figure at 0x11494ff60>"
      ]
     },
     "metadata": {},
     "output_type": "display_data"
    }
   ],
   "source": [
    "hist2 = sns.distplot(dataset.Trip_distance.loc[dataset.Trip_distance < 20], \n",
    "                     bins = np.arange(0, 20 + 1, .5), axlabel = 'Trip Distance')\n",
    "axes = hist2.axes\n",
    "axes.set_xlim(0, )"
   ]
  },
  {
   "cell_type": "code",
   "execution_count": 129,
   "metadata": {
    "collapsed": false
   },
   "outputs": [
    {
     "data": {
      "text/plain": [
       "count   1,491,532.000\n",
       "mean            2.916\n",
       "std             2.806\n",
       "min             0.000\n",
       "25%             1.090\n",
       "50%             1.970\n",
       "75%             3.720\n",
       "max            19.990\n",
       "Name: Trip_distance, dtype: float64"
      ]
     },
     "execution_count": 129,
     "metadata": {},
     "output_type": "execute_result"
    }
   ],
   "source": [
    "# summary statistics\n",
    "pd.options.display.float_format = '{:,.3f}'.format\n",
    "dataset.Trip_distance.loc[dataset.Trip_distance < 20].describe()"
   ]
  },
  {
   "cell_type": "markdown",
   "metadata": {},
   "source": [
    "### Hypothesis summary and testing\n",
    "\n",
    "The distribution plot above suggests a positive association between trip distance and number of demands for green cabs when the distance ranges from 0 to approximately 1.5 miles. A similar negative association applies at the distance above 1.5 miles.\n",
    "\n",
    "The shape of the density curve indicates that the trip distance might follow Poisson distribution if we treat the population density as the probability that a given trip might occur within a population. To further investigate this hypothesis, let's try to use Maximum Likelihood Estimation (MLE) to infer the parameter of Poisson distribution and plot predicted probability and the actual probability (population density) together to evaluate model performance:"
   ]
  },
  {
   "cell_type": "code",
   "execution_count": 142,
   "metadata": {
    "collapsed": false
   },
   "outputs": [
    {
     "name": "stderr",
     "output_type": "stream",
     "text": [
      "//anaconda/lib/python3.5/site-packages/ipykernel/__main__.py:9: RuntimeWarning: invalid value encountered in power\n",
      "//anaconda/lib/python3.5/site-packages/ipykernel/__main__.py:14: RuntimeWarning: invalid value encountered in log\n"
     ]
    },
    {
     "name": "stdout",
     "output_type": "stream",
     "text": [
      "   direc: array([[-0.01049886]])\n",
      "     fun: 3548042.2772550252\n",
      " message: 'Optimization terminated successfully.'\n",
      "    nfev: 44\n",
      "     nit: 2\n",
      "  status: 0\n",
      " success: True\n",
      "       x: array(2.916112850903603)\n"
     ]
    },
    {
     "data": {
      "image/png": "[encoded data removed]",
      "text/plain": [
       "<matplotlib.figure.Figure at 0x114d237b8>"
      ]
     },
     "metadata": {},
     "output_type": "display_data"
    }
   ],
   "source": [
    "# code borrowed from: http://stackoverflow.com/questions/25828184/fitting-to-poisson-histogram\n",
    "\n",
    "import matplotlib.pyplot as plt\n",
    "from scipy.optimize import minimize\n",
    "from scipy.misc import factorial\n",
    "\n",
    "\n",
    "def poisson(k, lamb):\n",
    "    \"\"\"poisson pdf, parameter lamb is the fit parameter\"\"\"\n",
    "    return (lamb**k/factorial(k)) * np.exp(-lamb)\n",
    "\n",
    "\n",
    "def negLogLikelihood(params, data):\n",
    "    \"\"\" the negative log-Likelohood-Function\"\"\"\n",
    "    lnl = - np.sum(np.log(poisson(data, params[0])))\n",
    "    return lnl\n",
    "\n",
    "# get poisson deviated random numbers\n",
    "data = dataset.Trip_distance.loc[(dataset.Trip_distance < 20)].as_matrix()\n",
    "\n",
    "# minimize the negative log-Likelihood\n",
    "result = minimize(negLogLikelihood,  # function to minimize\n",
    "                  x0=np.ones(1),     # start value\n",
    "                  args=(data,),      # additional arguments for function\n",
    "                  method='Powell',   # minimization method\n",
    "                  )\n",
    "# result is a scipy optimize result object, the fit parameters \n",
    "# are stored in result.x\n",
    "print(result)\n",
    "\n",
    "# plot poisson-deviation with fitted parameter\n",
    "x_plot = np.linspace(0, 20, 1000)\n",
    "binwidth = float(result.x)\n",
    "\n",
    "fig = plt.figure()\n",
    "ax = fig.add_subplot(111)\n",
    "\n",
    "ax.set_xlabel('Trip Distance')\n",
    "ax.set_ylabel('Probability')\n",
    "\n",
    "ax.hist(data,bins=np.arange(0, 20 + binwidth, binwidth), normed = True) # histogram shows actual distribution\n",
    "ax.plot(x_plot, poisson(x_plot, result.x), 'r-', lw=2) # red density curve shows predicted probability\n",
    "\n",
    "plt.show()"
   ]
  },
  {
   "cell_type": "markdown",
   "metadata": {},
   "source": [
    "### Conclusion\n",
    "Using MLE, we inferred the parameter of Poisson distribution: $\\lambda$ to be 2.916. Under the assumption of Poisson Distribution, this means the average rate that a trip might occur equals to the rate that a trip with distance 2.916 miles might occur.\n",
    "\n",
    "The plot above suggests the Poisson model gives a good prediction at the first and third bin (0-2.916 miles interval and 2.916*3-2.916*4 miles interval). However, the model overestimates at the second bin and underestimates at the fourth and the rest bins. This might be caused by the violation of event independence assumption in Poisson model. Say, the total number of green cabs in NYC is constant. The more short-distance trips occur, which means the more number of cabs will be occupied, the less long-distance trips will happen, which violates the assumption of independence."
   ]
  },
  {
   "cell_type": "markdown",
   "metadata": {},
   "source": [
    "<a id = Q3> </a>\n",
    "## Task 3\n",
    "* 3.1 Report mean and median trip distance grouped by hour of day.\n",
    "* 3.2 We'd like to get a rough sense of identifying trips that originate or terminate at one of the NYC area airports. Can you provide a count of how many transactions fit this criteria, the average fair, and any other interesting characteristics of these trips.\n"
   ]
  },
  {
   "cell_type": "markdown",
   "metadata": {},
   "source": [
    "### <font color='blue'> MEAN </font> trip distance grouped by hour of day"
   ]
  },
  {
   "cell_type": "code",
   "execution_count": 143,
   "metadata": {
    "collapsed": false,
    "scrolled": true
   },
   "outputs": [
    {
     "data": {
      "text/plain": [
       "0    3.115\n",
       "1    3.017\n",
       "2    3.046\n",
       "3    3.213\n",
       "4    3.527\n",
       "5    4.133\n",
       "6    4.055\n",
       "7    3.284\n",
       "8    3.048\n",
       "9    2.999\n",
       "10   2.944\n",
       "11   2.912\n",
       "12   2.903\n",
       "13   2.878\n",
       "14   2.864\n",
       "15   2.857\n",
       "16   2.780\n",
       "17   2.679\n",
       "18   2.653\n",
       "19   2.716\n",
       "20   2.777\n",
       "21   2.999\n",
       "22   3.185\n",
       "23   3.192\n",
       "Name: Trip_distance, dtype: float64"
      ]
     },
     "execution_count": 143,
     "metadata": {},
     "output_type": "execute_result"
    }
   ],
   "source": [
    "times = pd.DatetimeIndex(dataset.lpep_pickup_datetime)\n",
    "dataset.Trip_distance.groupby(times.hour).mean()"
   ]
  },
  {
   "cell_type": "markdown",
   "metadata": {},
   "source": [
    "### <font color='green'> MEDIAN </font> trip distance grouped by hour of day"
   ]
  },
  {
   "cell_type": "code",
   "execution_count": 144,
   "metadata": {
    "collapsed": false,
    "scrolled": true
   },
   "outputs": [
    {
     "data": {
      "text/plain": [
       "0    2.200\n",
       "1    2.120\n",
       "2    2.140\n",
       "3    2.200\n",
       "4    2.360\n",
       "5    2.900\n",
       "6    2.840\n",
       "7    2.170\n",
       "8    1.980\n",
       "9    1.960\n",
       "10   1.920\n",
       "11   1.880\n",
       "12   1.890\n",
       "13   1.840\n",
       "14   1.830\n",
       "15   1.810\n",
       "16   1.800\n",
       "17   1.780\n",
       "18   1.800\n",
       "19   1.850\n",
       "20   1.900\n",
       "21   2.030\n",
       "22   2.200\n",
       "23   2.220\n",
       "Name: Trip_distance, dtype: float64"
      ]
     },
     "execution_count": 144,
     "metadata": {},
     "output_type": "execute_result"
    }
   ],
   "source": [
    "times = pd.DatetimeIndex(dataset.lpep_pickup_datetime)\n",
    "dataset.Trip_distance.groupby(times.hour).median()"
   ]
  },
  {
   "cell_type": "markdown",
   "metadata": {},
   "source": [
    "### Next, let's look at trips started or ended near airports"
   ]
  },
  {
   "cell_type": "code",
   "execution_count": 147,
   "metadata": {
    "collapsed": true
   },
   "outputs": [],
   "source": [
    "import geopandas as gpd # for processing geographical data\n",
    "from geopandas import GeoSeries, GeoDataFrame\n",
    "from shapely.geometry import Point, Polygon, LineString\n",
    "import pickle"
   ]
  },
  {
   "cell_type": "markdown",
   "metadata": {},
   "source": [
    "We will limit our analysis to two major airports in NYC- John F. Kennedy and LaGardia Airport"
   ]
  },
  {
   "cell_type": "code",
   "execution_count": 149,
   "metadata": {
    "collapsed": true
   },
   "outputs": [],
   "source": [
    "# John F. Kennedy International Airport, JFK, 40.6413° N, 73.7781° W\n",
    "# use a polygon to represent the geographics of JFK airport, coordinates data from Google Map\n",
    "jfk = Polygon([(40.667526, -73.780606), (40.666048, -73.833996),\n",
    "               (40.652695, -73.831703), (40.648452, -73.823428),\n",
    "               (40.648452, -73.823428), (40.635432, -73.748500),\n",
    "               (40.644745, -73.747620)\n",
    "              ])\n",
    "\n",
    "# LaGuardia Airport, LGA, 40.7769° N, 73.8740° W\n",
    "laguardia = Polygon([(40.773460, -73.890349), (40.766775, -73.887669),\n",
    "                    (40.771625, -73.872679), (40.765005, -73.862025),\n",
    "                    (40.772087, -73.855024), (40.786058, -73.871229),\n",
    "                    (40.779948, -73.885207)])"
   ]
  },
  {
   "cell_type": "code",
   "execution_count": 151,
   "metadata": {
    "collapsed": true
   },
   "outputs": [],
   "source": [
    "# define a function that determines if a trip started or ended near John F. Kennedy International Airport or LaGuardia Airport\n",
    "def nearAirport(pickup_point, dropoff_point):\n",
    "    '''\n",
    "    return True if a trip started or ended near John F. Kennedy International Airport or LaGuardia Airport\n",
    "    return Flase otherwise\n",
    "    \n",
    "    args: \n",
    "        pickup_point -- coordinate of pickup point, eg. (40.773460, -73.890349)\n",
    "        dropiff_point -- coordinate of dropoff point, eg. (40.773460, -73.890349) \n",
    "    \n",
    "    '''\n",
    "    pickup_point = Point(pickup_point)\n",
    "    dropoff_point = Point(dropoff_point)\n",
    "    return (jfk.contains(pickup_point) | laguardia.contains(pickup_point) | \n",
    "            jfk.contains(dropoff_point) | laguardia.contains(dropoff_point))"
   ]
  },
  {
   "cell_type": "code",
   "execution_count": 154,
   "metadata": {
    "collapsed": false
   },
   "outputs": [],
   "source": [
    "# apply nearApriort() function to the dataset, this can be a computationally expensive job, will save the results\n",
    "# for future reference\n",
    "trip_near_airport = dataset.apply(lambda x: nearAirport((x[['Pickup_latitude','Pickup_longitude']]),\n",
    "                                                 (x[['Dropoff_latitude','Dropoff_longitude']])), axis = 1)"
   ]
  },
  {
   "cell_type": "code",
   "execution_count": null,
   "metadata": {
    "collapsed": true
   },
   "outputs": [],
   "source": [
    "# save for future reference\n",
    "with open('./data/trip_near_airport.p', 'wb') as handle:\n",
    "    pickle.dump(trip_near_airport, handle, protocol=pickle.HIGHEST_PROTOCOL)"
   ]
  },
  {
   "cell_type": "code",
   "execution_count": 155,
   "metadata": {
    "collapsed": true
   },
   "outputs": [],
   "source": [
    "# next time, load from pickle\n",
    "trip_near_airport = pickle.load(open('./data/trip_near_airport.p', 'rb' ))"
   ]
  },
  {
   "cell_type": "markdown",
   "metadata": {},
   "source": [
    "### Transactions happened near John F. Kennedy or LaGuardia Airport:"
   ]
  },
  {
   "cell_type": "code",
   "execution_count": 158,
   "metadata": {
    "collapsed": false
   },
   "outputs": [
    {
     "name": "stdout",
     "output_type": "stream",
     "text": [
      "In total, 35370 trainsactions either originate or terminate near John F. Kennedy International Airport or LaGuardia Airport\n"
     ]
    }
   ],
   "source": [
    "print ('In total, %i trainsactions either originate or terminate near\\\n",
    " John F. Kennedy International Airport or LaGuardia Airport' % trip_near_airport.sum())"
   ]
  },
  {
   "cell_type": "markdown",
   "metadata": {},
   "source": [
    "### Average fare of the trips happened near the two airports vs. other places"
   ]
  },
  {
   "cell_type": "code",
   "execution_count": 169,
   "metadata": {
    "collapsed": false
   },
   "outputs": [
    {
     "name": "stdout",
     "output_type": "stream",
     "text": [
      "The average fair the trips happend near the two airports is: $28.27, \n",
      " while the average fair at other places is: $12.16.\n"
     ]
    }
   ],
   "source": [
    "avg_fair_airport = dataset['Fare_amount'][trip_near_airport].mean()\n",
    "avg_fair_other = dataset['Fare_amount'][-trip_near_airport].mean()\n",
    "\n",
    "print ('The average fair the trips happend near the two airports is: $%.2f, \\n while \\\n",
    "the average fair at other places is: $%.2f.' % (avg_fair_airport, avg_fair_other))"
   ]
  },
  {
   "cell_type": "markdown",
   "metadata": {},
   "source": [
    "### Average percentage of tips of the trips happened near the two airports vs. other places"
   ]
  },
  {
   "cell_type": "code",
   "execution_count": 186,
   "metadata": {
    "collapsed": false
   },
   "outputs": [
    {
     "name": "stdout",
     "output_type": "stream",
     "text": [
      "The average percentage of tips of the trips happend near the two airports is: 13.54% , \n",
      " while the average percentage of tips at other places is: 4.15%.\n"
     ]
    }
   ],
   "source": [
    "avg_tip_percent_airport = dataset['Tip_amount'][trip_near_airport].mean() / avg_fair_airport\n",
    "avg_tip_percent_other = dataset['Tip_amount'][-trip_near_airport].mean() / avg_fair_airport\n",
    "\n",
    "print ('The average percentage of tips of the trips happend near the two airports is: %.2f%% , \\n while \\\n",
    "the average percentage of tips at other places is: %.2f%%.' % (avg_tip_percent_airport * 100, avg_tip_percent_other * 100))"
   ]
  },
  {
   "cell_type": "markdown",
   "metadata": {},
   "source": [
    "It looks like passengers who headed to or away from airports like to pay more tips than others do."
   ]
  }
 ],
 "metadata": {
  "anaconda-cloud": {},
  "kernelspec": {
   "display_name": "Python [Root]",
   "language": "python",
   "name": "Python [Root]"
  },
  "language_info": {
   "codemirror_mode": {
    "name": "ipython",
    "version": 3
   },
   "file_extension": ".py",
   "mimetype": "text/x-python",
   "name": "python",
   "nbconvert_exporter": "python",
   "pygments_lexer": "ipython3",
   "version": "3.5.1"
  }
 },
 "nbformat": 4,
 "nbformat_minor": 0
}
